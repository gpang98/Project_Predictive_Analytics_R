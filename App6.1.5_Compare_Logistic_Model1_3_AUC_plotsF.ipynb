{
 "cells": [
  {
   "cell_type": "code",
   "execution_count": 69,
   "id": "baf81c4a-a3df-40f2-8c40-04774831c9bf",
   "metadata": {
    "tags": []
   },
   "outputs": [
    {
     "name": "stdout",
     "output_type": "stream",
     "text": [
      "Working directory set to: C:/Users/GPEL_HPENVY/Desktop/Project_Predictive_Analytics_R \n"
     ]
    }
   ],
   "source": [
    "library(rpart)\n",
    "library(pROC)\n",
    "\n",
    "# Define the directory structure using file.path()\n",
    "my_dir <- file.path(\"C:/Users/GPEL_HPENVY/Desktop/Project_Predictive_Analytics_R\")\n",
    "\n",
    "# Check if the directory exists\n",
    "if (dir.exists(my_dir)) {\n",
    "  # Set the working directory\n",
    "  setwd(my_dir)\n",
    "  cat(\"Working directory set to:\", getwd(), \"\\n\")\n",
    "} else {\n",
    "  cat(\"Directory does not exist:\", my_dir, \"\\n\")\n",
    "}"
   ]
  },
  {
   "cell_type": "code",
   "execution_count": 70,
   "id": "24ff76c2-2a0e-453e-93a3-5ee4d8bfd01c",
   "metadata": {
    "tags": []
   },
   "outputs": [],
   "source": [
    "# set file path\n",
    "# read csv file\n",
    "#setwd('H:/GPEL_HPENVY/Documents/UNSW/07_ZZBU6511/Assessment3/')\n",
    "employees <- read.csv(file = 'employees2.csv')\n",
    "\n",
    "# Modify the column names to remove unwanted characters (assuming the problematic column is named \"ï..Age\")\n",
    "colnames(employees) <- gsub(\"ï\\\\.{2}\", \"\", colnames(employees))"
   ]
  },
  {
   "cell_type": "code",
   "execution_count": 71,
   "id": "4d1f265d-e796-4ecb-b821-66d3cb8160dc",
   "metadata": {
    "tags": []
   },
   "outputs": [
    {
     "data": {
      "text/html": [
       "<table>\n",
       "<thead><tr><th scope=col>Age</th><th scope=col>Attrition</th><th scope=col>BusinessTravel</th><th scope=col>Department</th><th scope=col>DistanceFromHome</th><th scope=col>Education</th><th scope=col>EnvironmentSatisfaction</th><th scope=col>Gender</th><th scope=col>JobInvolvement</th><th scope=col>JobRole</th><th scope=col>...</th><th scope=col>RelationshipSatisfaction</th><th scope=col>StockOptionLevel</th><th scope=col>TotalWorkingYears</th><th scope=col>TrainingTimesLastYear</th><th scope=col>WorkLifeBalance</th><th scope=col>YearsAtCompany</th><th scope=col>YearsInCurrentRole</th><th scope=col>YearsSinceLastPromotion</th><th scope=col>YearsWithCurrManager</th><th scope=col>HighPerformance</th></tr></thead>\n",
       "<tbody>\n",
       "\t<tr><td>26                                                               </td><td>No                                                               </td><td>Travel_Frequently                                                </td><td>Research &amp; Development                                       </td><td>10                                                               </td><td>3                                                                </td><td>3                                                                </td><td><span style=white-space:pre-wrap>Male  </span>                   </td><td>4                                                                </td><td><span style=white-space:pre-wrap>Laboratory Technician    </span></td><td>...                                                              </td><td>1                                                                </td><td>1                                                                </td><td> 8                                                               </td><td>3                                                                </td><td>3                                                                </td><td> 7                                                               </td><td>7                                                                </td><td>7                                                                </td><td>7                                                                </td><td>0                                                                </td></tr>\n",
       "\t<tr><td>33                                                       </td><td>No                                                       </td><td><span style=white-space:pre-wrap>Travel_Rarely    </span></td><td>Research &amp; Development                               </td><td>13                                                       </td><td>5                                                        </td><td>4                                                        </td><td><span style=white-space:pre-wrap>Male  </span>           </td><td>3                                                        </td><td>Healthcare Representative                                </td><td>...                                                      </td><td>1                                                        </td><td>0                                                        </td><td>14                                                       </td><td>6                                                        </td><td>3                                                        </td><td> 0                                                       </td><td>0                                                        </td><td>0                                                        </td><td>0                                                        </td><td>0                                                        </td></tr>\n",
       "\t<tr><td>59                                                               </td><td>No                                                               </td><td><span style=white-space:pre-wrap>Travel_Rarely    </span>        </td><td>Research &amp; Development                                       </td><td> 5                                                               </td><td>3                                                                </td><td>3                                                                </td><td>Female                                                           </td><td>4                                                                </td><td><span style=white-space:pre-wrap>Laboratory Technician    </span></td><td>...                                                              </td><td>1                                                                </td><td>3                                                                </td><td>12                                                               </td><td>3                                                                </td><td>2                                                                </td><td> 1                                                               </td><td>0                                                                </td><td>0                                                                </td><td>0                                                                </td><td>1                                                                </td></tr>\n",
       "\t<tr><td>42                                                       </td><td>No                                                       </td><td><span style=white-space:pre-wrap>Travel_Rarely    </span></td><td>Research &amp; Development                               </td><td>21                                                       </td><td>3                                                        </td><td>2                                                        </td><td><span style=white-space:pre-wrap>Male  </span>           </td><td>4                                                        </td><td>Healthcare Representative                                </td><td>...                                                      </td><td>3                                                        </td><td>2                                                        </td><td>10                                                       </td><td>2                                                        </td><td>2                                                        </td><td> 0                                                       </td><td>0                                                        </td><td>0                                                        </td><td>0                                                        </td><td>0                                                        </td></tr>\n",
       "\t<tr><td>24                                                               </td><td>No                                                               </td><td><span style=white-space:pre-wrap>Travel_Rarely    </span>        </td><td>Research &amp; Development                                       </td><td>27                                                               </td><td>1                                                                </td><td>4                                                                </td><td>Female                                                           </td><td>2                                                                </td><td><span style=white-space:pre-wrap>Manufacturing Director   </span></td><td>...                                                              </td><td>2                                                                </td><td>2                                                                </td><td> 5                                                               </td><td>6                                                                </td><td>3                                                                </td><td> 4                                                               </td><td>2                                                                </td><td>3                                                                </td><td>2                                                                </td><td>0                                                                </td></tr>\n",
       "\t<tr><td>29                                                               </td><td>No                                                               </td><td><span style=white-space:pre-wrap>Travel_Rarely    </span>        </td><td>Research &amp; Development                                       </td><td>37                                                               </td><td>2                                                                </td><td>3                                                                </td><td><span style=white-space:pre-wrap>Male  </span>                   </td><td>4                                                                </td><td><span style=white-space:pre-wrap>Research Scientist       </span></td><td>...                                                              </td><td>3                                                                </td><td>1                                                                </td><td>10                                                               </td><td>3                                                                </td><td>3                                                                </td><td>10                                                               </td><td>7                                                                </td><td>0                                                                </td><td>7                                                                </td><td>1                                                                </td></tr>\n",
       "</tbody>\n",
       "</table>\n"
      ],
      "text/latex": [
       "\\begin{tabular}{r|lllllllllllllllllllllllllll}\n",
       " Age & Attrition & BusinessTravel & Department & DistanceFromHome & Education & EnvironmentSatisfaction & Gender & JobInvolvement & JobRole & ... & RelationshipSatisfaction & StockOptionLevel & TotalWorkingYears & TrainingTimesLastYear & WorkLifeBalance & YearsAtCompany & YearsInCurrentRole & YearsSinceLastPromotion & YearsWithCurrManager & HighPerformance\\\\\n",
       "\\hline\n",
       "\t 26                        & No                        & Travel\\_Frequently       & Research \\& Development  & 10                        & 3                         & 3                         & Male                      & 4                         & Laboratory Technician     & ...                       & 1                         & 1                         &  8                        & 3                         & 3                         &  7                        & 7                         & 7                         & 7                         & 0                        \\\\\n",
       "\t 33                        & No                        & Travel\\_Rarely           & Research \\& Development  & 13                        & 5                         & 4                         & Male                      & 3                         & Healthcare Representative & ...                       & 1                         & 0                         & 14                        & 6                         & 3                         &  0                        & 0                         & 0                         & 0                         & 0                        \\\\\n",
       "\t 59                        & No                        & Travel\\_Rarely           & Research \\& Development  &  5                        & 3                         & 3                         & Female                    & 4                         & Laboratory Technician     & ...                       & 1                         & 3                         & 12                        & 3                         & 2                         &  1                        & 0                         & 0                         & 0                         & 1                        \\\\\n",
       "\t 42                        & No                        & Travel\\_Rarely           & Research \\& Development  & 21                        & 3                         & 2                         & Male                      & 4                         & Healthcare Representative & ...                       & 3                         & 2                         & 10                        & 2                         & 2                         &  0                        & 0                         & 0                         & 0                         & 0                        \\\\\n",
       "\t 24                        & No                        & Travel\\_Rarely           & Research \\& Development  & 27                        & 1                         & 4                         & Female                    & 2                         & Manufacturing Director    & ...                       & 2                         & 2                         &  5                        & 6                         & 3                         &  4                        & 2                         & 3                         & 2                         & 0                        \\\\\n",
       "\t 29                        & No                        & Travel\\_Rarely           & Research \\& Development  & 37                        & 2                         & 3                         & Male                      & 4                         & Research Scientist        & ...                       & 3                         & 1                         & 10                        & 3                         & 3                         & 10                        & 7                         & 0                         & 7                         & 1                        \\\\\n",
       "\\end{tabular}\n"
      ],
      "text/markdown": [
       "\n",
       "| Age | Attrition | BusinessTravel | Department | DistanceFromHome | Education | EnvironmentSatisfaction | Gender | JobInvolvement | JobRole | ... | RelationshipSatisfaction | StockOptionLevel | TotalWorkingYears | TrainingTimesLastYear | WorkLifeBalance | YearsAtCompany | YearsInCurrentRole | YearsSinceLastPromotion | YearsWithCurrManager | HighPerformance |\n",
       "|---|---|---|---|---|---|---|---|---|---|---|---|---|---|---|---|---|---|---|---|---|\n",
       "| 26                        | No                        | Travel_Frequently         | Research & Development    | 10                        | 3                         | 3                         | Male                      | 4                         | Laboratory Technician     | ...                       | 1                         | 1                         |  8                        | 3                         | 3                         |  7                        | 7                         | 7                         | 7                         | 0                         |\n",
       "| 33                        | No                        | Travel_Rarely             | Research & Development    | 13                        | 5                         | 4                         | Male                      | 3                         | Healthcare Representative | ...                       | 1                         | 0                         | 14                        | 6                         | 3                         |  0                        | 0                         | 0                         | 0                         | 0                         |\n",
       "| 59                        | No                        | Travel_Rarely             | Research & Development    |  5                        | 3                         | 3                         | Female                    | 4                         | Laboratory Technician     | ...                       | 1                         | 3                         | 12                        | 3                         | 2                         |  1                        | 0                         | 0                         | 0                         | 1                         |\n",
       "| 42                        | No                        | Travel_Rarely             | Research & Development    | 21                        | 3                         | 2                         | Male                      | 4                         | Healthcare Representative | ...                       | 3                         | 2                         | 10                        | 2                         | 2                         |  0                        | 0                         | 0                         | 0                         | 0                         |\n",
       "| 24                        | No                        | Travel_Rarely             | Research & Development    | 27                        | 1                         | 4                         | Female                    | 2                         | Manufacturing Director    | ...                       | 2                         | 2                         |  5                        | 6                         | 3                         |  4                        | 2                         | 3                         | 2                         | 0                         |\n",
       "| 29                        | No                        | Travel_Rarely             | Research & Development    | 37                        | 2                         | 3                         | Male                      | 4                         | Research Scientist        | ...                       | 3                         | 1                         | 10                        | 3                         | 3                         | 10                        | 7                         | 0                         | 7                         | 1                         |\n",
       "\n"
      ],
      "text/plain": [
       "  Age Attrition BusinessTravel    Department             DistanceFromHome\n",
       "1 26  No        Travel_Frequently Research & Development 10              \n",
       "2 33  No        Travel_Rarely     Research & Development 13              \n",
       "3 59  No        Travel_Rarely     Research & Development  5              \n",
       "4 42  No        Travel_Rarely     Research & Development 21              \n",
       "5 24  No        Travel_Rarely     Research & Development 27              \n",
       "6 29  No        Travel_Rarely     Research & Development 37              \n",
       "  Education EnvironmentSatisfaction Gender JobInvolvement\n",
       "1 3         3                       Male   4             \n",
       "2 5         4                       Male   3             \n",
       "3 3         3                       Female 4             \n",
       "4 3         2                       Male   4             \n",
       "5 1         4                       Female 2             \n",
       "6 2         3                       Male   4             \n",
       "  JobRole                   ... RelationshipSatisfaction StockOptionLevel\n",
       "1 Laboratory Technician     ... 1                        1               \n",
       "2 Healthcare Representative ... 1                        0               \n",
       "3 Laboratory Technician     ... 1                        3               \n",
       "4 Healthcare Representative ... 3                        2               \n",
       "5 Manufacturing Director    ... 2                        2               \n",
       "6 Research Scientist        ... 3                        1               \n",
       "  TotalWorkingYears TrainingTimesLastYear WorkLifeBalance YearsAtCompany\n",
       "1  8                3                     3                7            \n",
       "2 14                6                     3                0            \n",
       "3 12                3                     2                1            \n",
       "4 10                2                     2                0            \n",
       "5  5                6                     3                4            \n",
       "6 10                3                     3               10            \n",
       "  YearsInCurrentRole YearsSinceLastPromotion YearsWithCurrManager\n",
       "1 7                  7                       7                   \n",
       "2 0                  0                       0                   \n",
       "3 0                  0                       0                   \n",
       "4 0                  0                       0                   \n",
       "5 2                  3                       2                   \n",
       "6 7                  0                       7                   \n",
       "  HighPerformance\n",
       "1 0              \n",
       "2 0              \n",
       "3 1              \n",
       "4 0              \n",
       "5 0              \n",
       "6 1              "
      ]
     },
     "metadata": {},
     "output_type": "display_data"
    }
   ],
   "source": [
    "# Inspect file\n",
    "head(employees)\n"
   ]
  },
  {
   "cell_type": "code",
   "execution_count": 72,
   "id": "1f1a4b38-4e3d-4a01-a1bc-ba127a782c0f",
   "metadata": {
    "tags": []
   },
   "outputs": [],
   "source": [
    "# Add new binary variables to the employees data frame\n",
    "employees$Is.Attrition = ifelse(employees$Attrition == \"Yes\", 1, 0)\n",
    "employees$Over18 <- NULL  # Don't include Over18 since all response is Yes."
   ]
  },
  {
   "cell_type": "code",
   "execution_count": 73,
   "id": "964f060f-6e36-4ccf-87ab-7b59aa82da90",
   "metadata": {
    "tags": []
   },
   "outputs": [],
   "source": [
    "set.seed(57)\n",
    "rows <- sample(nrow(employees), 0.8*nrow(employees))\n",
    "training <- employees[rows, ]\n",
    "testing <- employees[-rows, ]\n",
    "# Create the models\n",
    "logmod1 <- glm(\n",
    "  formula = Is.Attrition ~ . - Attrition - Is.Attrition,\n",
    "  data = training,\n",
    "  family = binomial()\n",
    ")"
   ]
  },
  {
   "cell_type": "code",
   "execution_count": 74,
   "id": "775bbfba-2e04-4c26-a012-43fbd40bc58f",
   "metadata": {
    "tags": []
   },
   "outputs": [],
   "source": [
    "logmod2 <- glm(\n",
    "  formula = Is.Attrition ~ BusinessTravel +  EnvironmentSatisfaction +\n",
    "    JobInvolvement + JobSatisfaction + NumCompaniesWorked + OverTime,\n",
    "  data = training,\n",
    "  family = binomial()\n",
    ")\n"
   ]
  },
  {
   "cell_type": "code",
   "execution_count": 75,
   "id": "0fc2d072-654d-4565-842e-a142079475b7",
   "metadata": {
    "tags": []
   },
   "outputs": [],
   "source": [
    "logmod3 <- glm(\n",
    "  formula = Is.Attrition ~ BusinessTravel +  EnvironmentSatisfaction +\n",
    "    JobInvolvement + JobSatisfaction + OverTime,\n",
    "  data = training,\n",
    "  family = binomial()\n",
    ")"
   ]
  },
  {
   "cell_type": "code",
   "execution_count": 76,
   "id": "0ebdb42c-ec9e-4a54-8aea-e69801300690",
   "metadata": {
    "tags": []
   },
   "outputs": [],
   "source": [
    "# Get the probabilities on training and testing\n",
    "training$logprob1 <- predict(logmod1, newdata=training, type=\"response\")\n",
    "testing$logprob1 <- predict( logmod1, newdata=testing, type=\"response\")\n",
    "training$logprob2 <- predict( logmod2, newdata=training, type=\"response\")\n",
    "testing$logprob2 <- predict( logmod2, newdata=testing, type=\"response\")\n",
    "training$logprob3 <- predict( logmod3, newdata=training, type=\"response\")\n",
    "testing$logprob3 <- predict( logmod3, newdata=testing, type=\"response\")"
   ]
  },
  {
   "cell_type": "code",
   "execution_count": 77,
   "id": "13bb4090-b2a2-4117-ad81-7372492c588d",
   "metadata": {
    "tags": []
   },
   "outputs": [],
   "source": [
    "# Get the ROC curves on training and testing\n",
    "training.logroc1 <- roc(Is.Attrition ~ logprob1, data=training, plot=FALSE, quiet=TRUE\n",
    ")\n",
    "testing.logroc1 <- roc(Is.Attrition ~ logprob1, data=testing, plot=FALSE, quiet=TRUE\n",
    ")\n",
    "training.logroc2 <- roc(Is.Attrition ~ logprob2, data=training, plot=FALSE, quiet=TRUE\n",
    ")\n",
    "testing.logroc2 <- roc(Is.Attrition ~ logprob2, data=testing, plot=FALSE, quiet=TRUE\n",
    ")\n",
    "training.logroc3 <- roc(Is.Attrition ~ logprob3, data=training, plot=FALSE, quiet=TRUE\n",
    ")\n",
    "testing.logroc3 <- roc(Is.Attrition ~ logprob3, data=testing, plot=FALSE, quiet=TRUE\n",
    ")"
   ]
  },
  {
   "cell_type": "code",
   "execution_count": 78,
   "id": "41fc002d-ccd4-4e14-a7b2-0f512ee30d83",
   "metadata": {
    "tags": []
   },
   "outputs": [
    {
     "data": {
      "image/png": "[encoded data removed]",
      "text/plain": [
       "Plot with title \"Model3: Log model on testing set\n",
       "AUC = 0.7925\""
      ]
     },
     "metadata": {},
     "output_type": "display_data"
    }
   ],
   "source": [
    "# Plot the ROC curves and show AUC\n",
    "par(mfrow=c(3, 2), cex.main=0.8)\n",
    "plot(\n",
    "  training.logroc1,\n",
    "  main=paste(\"Model1: Log model on training set\\nAUC =\", round(training.logroc1$auc, digits=4))\n",
    ")\n",
    "plot(\n",
    "  testing.logroc1,\n",
    "  main=paste(\"Model1: Log model on testing set\\nAUC =\", round(testing.logroc1$auc, digits=4))\n",
    ")\n",
    "plot(\n",
    "  training.logroc2,\n",
    "  main=paste(\"Model2: Log model on training set\\nAUC =\", round(training.logroc2$auc, digits=4))\n",
    ")\n",
    "plot(\n",
    "  testing.logroc2,\n",
    "  main=paste(\"Model2: Log model on testing set\\nAUC =\", round(testing.logroc2$auc, digits=4))\n",
    ")\n",
    "plot(\n",
    "  training.logroc3,\n",
    "  main=paste(\"Model3: Log model on training set\\nAUC =\", round(training.logroc3$auc, digits=4))\n",
    ")\n",
    "plot(\n",
    "  testing.logroc3,\n",
    "  main=paste(\"Model3: Log model on testing set\\nAUC =\", round(testing.logroc3$auc, digits=4))\n",
    ")"
   ]
  },
  {
   "cell_type": "code",
   "execution_count": null,
   "id": "c61d9e11-0a05-48bd-b6ad-07518d0dea6d",
   "metadata": {},
   "outputs": [],
   "source": []
  }
 ],
 "metadata": {
  "kernelspec": {
   "display_name": "R",
   "language": "R",
   "name": "ir"
  },
  "language_info": {
   "codemirror_mode": "r",
   "file_extension": ".r",
   "mimetype": "text/x-r-source",
   "name": "R",
   "pygments_lexer": "r",
   "version": "3.6.1"
  }
 },
 "nbformat": 4,
 "nbformat_minor": 5
}
