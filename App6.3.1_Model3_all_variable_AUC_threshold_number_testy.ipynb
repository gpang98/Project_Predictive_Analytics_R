{
 "cells": [
  {
   "cell_type": "code",
   "execution_count": 1,
   "id": "baf81c4a-a3df-40f2-8c40-04774831c9bf",
   "metadata": {
    "tags": []
   },
   "outputs": [
    {
     "name": "stderr",
     "output_type": "stream",
     "text": [
      "Warning message:\n",
      "\"package 'pROC' was built under R version 3.6.3\"Type 'citation(\"pROC\")' for a citation.\n",
      "\n",
      "Attaching package: 'pROC'\n",
      "\n",
      "The following objects are masked from 'package:stats':\n",
      "\n",
      "    cov, smooth, var\n",
      "\n"
     ]
    },
    {
     "name": "stdout",
     "output_type": "stream",
     "text": [
      "Working directory set to: C:/Users/GPEL_HPENVY/Desktop/Project_Predictive_Analytics_R \n"
     ]
    }
   ],
   "source": [
    "library(rpart)\n",
    "library(rpart.plot)\n",
    "library(pROC)\n",
    "\n",
    "# Define the directory structure using file.path()\n",
    "my_dir <- file.path(\"C:/Users/GPEL_HPENVY/Desktop/Project_Predictive_Analytics_R\")\n",
    "\n",
    "# Check if the directory exists\n",
    "if (dir.exists(my_dir)) {\n",
    "  # Set the working directory\n",
    "  setwd(my_dir)\n",
    "  cat(\"Working directory set to:\", getwd(), \"\\n\")\n",
    "} else {\n",
    "  cat(\"Directory does not exist:\", my_dir, \"\\n\")\n",
    "}"
   ]
  },
  {
   "cell_type": "code",
   "execution_count": 2,
   "id": "24ff76c2-2a0e-453e-93a3-5ee4d8bfd01c",
   "metadata": {
    "tags": []
   },
   "outputs": [],
   "source": [
    "# set file path\n",
    "# read csv file\n",
    "#setwd('H:/GPEL_HPENVY/Documents/UNSW/07_ZZBU6511/Assessment3/')\n",
    "employees <- read.csv(file = 'employees2.csv')\n",
    "\n",
    "# Modify the column names to remove unwanted characters (assuming the problematic column is named \"ï..Age\")\n",
    "colnames(employees) <- gsub(\"ï\\\\.{2}\", \"\", colnames(employees))"
   ]
  },
  {
   "cell_type": "code",
   "execution_count": 3,
   "id": "4d1f265d-e796-4ecb-b821-66d3cb8160dc",
   "metadata": {
    "tags": []
   },
   "outputs": [
    {
     "data": {
      "text/html": [
       "<table>\n",
       "<thead><tr><th scope=col>Age</th><th scope=col>Attrition</th><th scope=col>BusinessTravel</th><th scope=col>Department</th><th scope=col>DistanceFromHome</th><th scope=col>Education</th><th scope=col>EnvironmentSatisfaction</th><th scope=col>Gender</th><th scope=col>JobInvolvement</th><th scope=col>JobRole</th><th scope=col>...</th><th scope=col>RelationshipSatisfaction</th><th scope=col>StockOptionLevel</th><th scope=col>TotalWorkingYears</th><th scope=col>TrainingTimesLastYear</th><th scope=col>WorkLifeBalance</th><th scope=col>YearsAtCompany</th><th scope=col>YearsInCurrentRole</th><th scope=col>YearsSinceLastPromotion</th><th scope=col>YearsWithCurrManager</th><th scope=col>HighPerformance</th></tr></thead>\n",
       "<tbody>\n",
       "\t<tr><td>26                                                               </td><td>No                                                               </td><td>Travel_Frequently                                                </td><td>Research &amp; Development                                       </td><td>10                                                               </td><td>3                                                                </td><td>3                                                                </td><td><span style=white-space:pre-wrap>Male  </span>                   </td><td>4                                                                </td><td><span style=white-space:pre-wrap>Laboratory Technician    </span></td><td>...                                                              </td><td>1                                                                </td><td>1                                                                </td><td> 8                                                               </td><td>3                                                                </td><td>3                                                                </td><td> 7                                                               </td><td>7                                                                </td><td>7                                                                </td><td>7                                                                </td><td>0                                                                </td></tr>\n",
       "\t<tr><td>33                                                       </td><td>No                                                       </td><td><span style=white-space:pre-wrap>Travel_Rarely    </span></td><td>Research &amp; Development                               </td><td>13                                                       </td><td>5                                                        </td><td>4                                                        </td><td><span style=white-space:pre-wrap>Male  </span>           </td><td>3                                                        </td><td>Healthcare Representative                                </td><td>...                                                      </td><td>1                                                        </td><td>0                                                        </td><td>14                                                       </td><td>6                                                        </td><td>3                                                        </td><td> 0                                                       </td><td>0                                                        </td><td>0                                                        </td><td>0                                                        </td><td>0                                                        </td></tr>\n",
       "\t<tr><td>59                                                               </td><td>No                                                               </td><td><span style=white-space:pre-wrap>Travel_Rarely    </span>        </td><td>Research &amp; Development                                       </td><td> 5                                                               </td><td>3                                                                </td><td>3                                                                </td><td>Female                                                           </td><td>4                                                                </td><td><span style=white-space:pre-wrap>Laboratory Technician    </span></td><td>...                                                              </td><td>1                                                                </td><td>3                                                                </td><td>12                                                               </td><td>3                                                                </td><td>2                                                                </td><td> 1                                                               </td><td>0                                                                </td><td>0                                                                </td><td>0                                                                </td><td>1                                                                </td></tr>\n",
       "\t<tr><td>42                                                       </td><td>No                                                       </td><td><span style=white-space:pre-wrap>Travel_Rarely    </span></td><td>Research &amp; Development                               </td><td>21                                                       </td><td>3                                                        </td><td>2                                                        </td><td><span style=white-space:pre-wrap>Male  </span>           </td><td>4                                                        </td><td>Healthcare Representative                                </td><td>...                                                      </td><td>3                                                        </td><td>2                                                        </td><td>10                                                       </td><td>2                                                        </td><td>2                                                        </td><td> 0                                                       </td><td>0                                                        </td><td>0                                                        </td><td>0                                                        </td><td>0                                                        </td></tr>\n",
       "\t<tr><td>24                                                               </td><td>No                                                               </td><td><span style=white-space:pre-wrap>Travel_Rarely    </span>        </td><td>Research &amp; Development                                       </td><td>27                                                               </td><td>1                                                                </td><td>4                                                                </td><td>Female                                                           </td><td>2                                                                </td><td><span style=white-space:pre-wrap>Manufacturing Director   </span></td><td>...                                                              </td><td>2                                                                </td><td>2                                                                </td><td> 5                                                               </td><td>6                                                                </td><td>3                                                                </td><td> 4                                                               </td><td>2                                                                </td><td>3                                                                </td><td>2                                                                </td><td>0                                                                </td></tr>\n",
       "\t<tr><td>29                                                               </td><td>No                                                               </td><td><span style=white-space:pre-wrap>Travel_Rarely    </span>        </td><td>Research &amp; Development                                       </td><td>37                                                               </td><td>2                                                                </td><td>3                                                                </td><td><span style=white-space:pre-wrap>Male  </span>                   </td><td>4                                                                </td><td><span style=white-space:pre-wrap>Research Scientist       </span></td><td>...                                                              </td><td>3                                                                </td><td>1                                                                </td><td>10                                                               </td><td>3                                                                </td><td>3                                                                </td><td>10                                                               </td><td>7                                                                </td><td>0                                                                </td><td>7                                                                </td><td>1                                                                </td></tr>\n",
       "</tbody>\n",
       "</table>\n"
      ],
      "text/latex": [
       "\\begin{tabular}{r|lllllllllllllllllllllllllll}\n",
       " Age & Attrition & BusinessTravel & Department & DistanceFromHome & Education & EnvironmentSatisfaction & Gender & JobInvolvement & JobRole & ... & RelationshipSatisfaction & StockOptionLevel & TotalWorkingYears & TrainingTimesLastYear & WorkLifeBalance & YearsAtCompany & YearsInCurrentRole & YearsSinceLastPromotion & YearsWithCurrManager & HighPerformance\\\\\n",
       "\\hline\n",
       "\t 26                        & No                        & Travel\\_Frequently       & Research \\& Development  & 10                        & 3                         & 3                         & Male                      & 4                         & Laboratory Technician     & ...                       & 1                         & 1                         &  8                        & 3                         & 3                         &  7                        & 7                         & 7                         & 7                         & 0                        \\\\\n",
       "\t 33                        & No                        & Travel\\_Rarely           & Research \\& Development  & 13                        & 5                         & 4                         & Male                      & 3                         & Healthcare Representative & ...                       & 1                         & 0                         & 14                        & 6                         & 3                         &  0                        & 0                         & 0                         & 0                         & 0                        \\\\\n",
       "\t 59                        & No                        & Travel\\_Rarely           & Research \\& Development  &  5                        & 3                         & 3                         & Female                    & 4                         & Laboratory Technician     & ...                       & 1                         & 3                         & 12                        & 3                         & 2                         &  1                        & 0                         & 0                         & 0                         & 1                        \\\\\n",
       "\t 42                        & No                        & Travel\\_Rarely           & Research \\& Development  & 21                        & 3                         & 2                         & Male                      & 4                         & Healthcare Representative & ...                       & 3                         & 2                         & 10                        & 2                         & 2                         &  0                        & 0                         & 0                         & 0                         & 0                        \\\\\n",
       "\t 24                        & No                        & Travel\\_Rarely           & Research \\& Development  & 27                        & 1                         & 4                         & Female                    & 2                         & Manufacturing Director    & ...                       & 2                         & 2                         &  5                        & 6                         & 3                         &  4                        & 2                         & 3                         & 2                         & 0                        \\\\\n",
       "\t 29                        & No                        & Travel\\_Rarely           & Research \\& Development  & 37                        & 2                         & 3                         & Male                      & 4                         & Research Scientist        & ...                       & 3                         & 1                         & 10                        & 3                         & 3                         & 10                        & 7                         & 0                         & 7                         & 1                        \\\\\n",
       "\\end{tabular}\n"
      ],
      "text/markdown": [
       "\n",
       "| Age | Attrition | BusinessTravel | Department | DistanceFromHome | Education | EnvironmentSatisfaction | Gender | JobInvolvement | JobRole | ... | RelationshipSatisfaction | StockOptionLevel | TotalWorkingYears | TrainingTimesLastYear | WorkLifeBalance | YearsAtCompany | YearsInCurrentRole | YearsSinceLastPromotion | YearsWithCurrManager | HighPerformance |\n",
       "|---|---|---|---|---|---|---|---|---|---|---|---|---|---|---|---|---|---|---|---|---|\n",
       "| 26                        | No                        | Travel_Frequently         | Research & Development    | 10                        | 3                         | 3                         | Male                      | 4                         | Laboratory Technician     | ...                       | 1                         | 1                         |  8                        | 3                         | 3                         |  7                        | 7                         | 7                         | 7                         | 0                         |\n",
       "| 33                        | No                        | Travel_Rarely             | Research & Development    | 13                        | 5                         | 4                         | Male                      | 3                         | Healthcare Representative | ...                       | 1                         | 0                         | 14                        | 6                         | 3                         |  0                        | 0                         | 0                         | 0                         | 0                         |\n",
       "| 59                        | No                        | Travel_Rarely             | Research & Development    |  5                        | 3                         | 3                         | Female                    | 4                         | Laboratory Technician     | ...                       | 1                         | 3                         | 12                        | 3                         | 2                         |  1                        | 0                         | 0                         | 0                         | 1                         |\n",
       "| 42                        | No                        | Travel_Rarely             | Research & Development    | 21                        | 3                         | 2                         | Male                      | 4                         | Healthcare Representative | ...                       | 3                         | 2                         | 10                        | 2                         | 2                         |  0                        | 0                         | 0                         | 0                         | 0                         |\n",
       "| 24                        | No                        | Travel_Rarely             | Research & Development    | 27                        | 1                         | 4                         | Female                    | 2                         | Manufacturing Director    | ...                       | 2                         | 2                         |  5                        | 6                         | 3                         |  4                        | 2                         | 3                         | 2                         | 0                         |\n",
       "| 29                        | No                        | Travel_Rarely             | Research & Development    | 37                        | 2                         | 3                         | Male                      | 4                         | Research Scientist        | ...                       | 3                         | 1                         | 10                        | 3                         | 3                         | 10                        | 7                         | 0                         | 7                         | 1                         |\n",
       "\n"
      ],
      "text/plain": [
       "  Age Attrition BusinessTravel    Department             DistanceFromHome\n",
       "1 26  No        Travel_Frequently Research & Development 10              \n",
       "2 33  No        Travel_Rarely     Research & Development 13              \n",
       "3 59  No        Travel_Rarely     Research & Development  5              \n",
       "4 42  No        Travel_Rarely     Research & Development 21              \n",
       "5 24  No        Travel_Rarely     Research & Development 27              \n",
       "6 29  No        Travel_Rarely     Research & Development 37              \n",
       "  Education EnvironmentSatisfaction Gender JobInvolvement\n",
       "1 3         3                       Male   4             \n",
       "2 5         4                       Male   3             \n",
       "3 3         3                       Female 4             \n",
       "4 3         2                       Male   4             \n",
       "5 1         4                       Female 2             \n",
       "6 2         3                       Male   4             \n",
       "  JobRole                   ... RelationshipSatisfaction StockOptionLevel\n",
       "1 Laboratory Technician     ... 1                        1               \n",
       "2 Healthcare Representative ... 1                        0               \n",
       "3 Laboratory Technician     ... 1                        3               \n",
       "4 Healthcare Representative ... 3                        2               \n",
       "5 Manufacturing Director    ... 2                        2               \n",
       "6 Research Scientist        ... 3                        1               \n",
       "  TotalWorkingYears TrainingTimesLastYear WorkLifeBalance YearsAtCompany\n",
       "1  8                3                     3                7            \n",
       "2 14                6                     3                0            \n",
       "3 12                3                     2                1            \n",
       "4 10                2                     2                0            \n",
       "5  5                6                     3                4            \n",
       "6 10                3                     3               10            \n",
       "  YearsInCurrentRole YearsSinceLastPromotion YearsWithCurrManager\n",
       "1 7                  7                       7                   \n",
       "2 0                  0                       0                   \n",
       "3 0                  0                       0                   \n",
       "4 0                  0                       0                   \n",
       "5 2                  3                       2                   \n",
       "6 7                  0                       7                   \n",
       "  HighPerformance\n",
       "1 0              \n",
       "2 0              \n",
       "3 1              \n",
       "4 0              \n",
       "5 0              \n",
       "6 1              "
      ]
     },
     "metadata": {},
     "output_type": "display_data"
    }
   ],
   "source": [
    "# Inspect file\n",
    "head(employees)\n"
   ]
  },
  {
   "cell_type": "code",
   "execution_count": 4,
   "id": "14e64eb4-9de6-4bb4-a8b4-aaefb5f145bc",
   "metadata": {},
   "outputs": [],
   "source": [
    "# Make Attrition a factor\n",
    "employees$Attrition = factor(ifelse(employees$Attrition == \"Yes\", 1, 0))\n",
    "employees$Over18 = NULL # don't use this column"
   ]
  },
  {
   "cell_type": "code",
   "execution_count": 5,
   "id": "5b587a92-472d-4832-b9cb-4bef4d9c9542",
   "metadata": {
    "tags": []
   },
   "outputs": [],
   "source": [
    "# Split the data to training and testing\n",
    "set.seed(57)\n",
    "rows <- sample(nrow(employees), 0.8*nrow(employees))\n",
    "training <- employees[rows, ]\n",
    "testing <- employees[-rows, ]"
   ]
  },
  {
   "cell_type": "code",
   "execution_count": 6,
   "id": "501a76b1-c371-481b-a2b5-eaa57b24bec5",
   "metadata": {
    "tags": []
   },
   "outputs": [],
   "source": [
    "# Make decision tree using all variables\n",
    "tree1 <- rpart(  \n",
    "  formula = Attrition ~ . - Attrition,\n",
    "  data = training,\n",
    "  method = \"class\"\n",
    ")\n",
    "\n",
    "# Predict on training and testing dataset\n",
    "training$Prob1 <- predict(  \n",
    "  object = tree1,  newdata = training,  type = \"prob\"\n",
    ")\n",
    "\n",
    "testing$Prob1 <- predict(  \n",
    "  object = tree1,  newdata = testing,  type = \"prob\"\n",
    ")"
   ]
  },
  {
   "cell_type": "code",
   "execution_count": 7,
   "id": "a1bdbe5c-115e-467c-bc3e-158c52917466",
   "metadata": {
    "tags": []
   },
   "outputs": [
    {
     "name": "stderr",
     "output_type": "stream",
     "text": [
      "Setting levels: control = 0, case = 1\n",
      "Setting direction: controls < cases\n",
      "Setting levels: control = 0, case = 1\n",
      "Setting direction: controls < cases\n"
     ]
    },
    {
     "data": {
      "image/png": "[encoded data removed]",
      "text/plain": [
       "Plot with title \"Tree1: Testing set\n",
       "AUC = 0.7019\""
      ]
     },
     "metadata": {},
     "output_type": "display_data"
    }
   ],
   "source": [
    "# Calculate ROC curve for training set\n",
    "train1_roc <- roc(  \n",
    "  response = training$Attrition,\n",
    "  predictor = training$Prob1[, \"1\"]\n",
    ")\n",
    "\n",
    "# Calculate ROC curve for testing set\n",
    "test1_roc <- roc(  \n",
    "  response = testing$Attrition,\n",
    "  predictor = testing$Prob1[, \"1\"]\n",
    ")\n",
    "\n",
    "# Plot the ROC curves and show AUC\n",
    "par(mfrow=c(1, 2), cex.main=0.8)\n",
    "\n",
    "# Plot ROC curves and display AUC\n",
    "plot(train1_roc, main = paste(\"Tree1: Training set\\nAUC =\", round(train1_roc$auc, digits=4)))\n",
    "plot(test1_roc, main = paste(\"Tree1: Testing set\\nAUC =\", round(test1_roc$auc, digits=4)))"
   ]
  },
  {
   "cell_type": "code",
   "execution_count": 8,
   "id": "94d2196c-2aae-47b6-aaf4-47e5c4537735",
   "metadata": {
    "tags": []
   },
   "outputs": [
    {
     "data": {
      "text/html": [
       "<strong>png:</strong> 2"
      ],
      "text/latex": [
       "\\textbf{png:} 2"
      ],
      "text/markdown": [
       "**png:** 2"
      ],
      "text/plain": [
       "png \n",
       "  2 "
      ]
     },
     "metadata": {},
     "output_type": "display_data"
    }
   ],
   "source": [
    "# Now, save the plots to a PNG file\n",
    "png(\"Fig6.3.1.png\", width = 800, height = 600)  # Specify the file name and dimensions\n",
    "\n",
    "# Plot the ROC curves and show AUC (same code as before)\n",
    "par(mfrow=c(1, 2), cex.main=0.8)\n",
    "plot(train1_roc, main = paste(\"Tree1: Training set\\nAUC =\", round(train1_roc$auc, digits=4)))\n",
    "plot(test1_roc, main = paste(\"Tree1: Testing set\\nAUC =\", round(test1_roc$auc, digits=4)))\n",
    "\n",
    "# Close the PNG graphics device for saving to file\n",
    "dev.off()"
   ]
  },
  {
   "cell_type": "code",
   "execution_count": null,
   "id": "bd0f409e-3d21-4a38-8aa4-84cda3c5f60b",
   "metadata": {},
   "outputs": [],
   "source": []
  }
 ],
 "metadata": {
  "kernelspec": {
   "display_name": "R",
   "language": "R",
   "name": "ir"
  },
  "language_info": {
   "codemirror_mode": "r",
   "file_extension": ".r",
   "mimetype": "text/x-r-source",
   "name": "R",
   "pygments_lexer": "r",
   "version": "3.6.1"
  }
 },
 "nbformat": 4,
 "nbformat_minor": 5
}
