{
 "cells": [
  {
   "cell_type": "code",
   "execution_count": 1,
   "id": "baf81c4a-a3df-40f2-8c40-04774831c9bf",
   "metadata": {
    "tags": []
   },
   "outputs": [
    {
     "name": "stdout",
     "output_type": "stream",
     "text": [
      "Working directory set to: C:/Users/GPEL_HPENVY/Desktop/Project_Predictive_Analytics_R \n"
     ]
    }
   ],
   "source": [
    "# Define the directory structure using file.path()\n",
    "my_dir <- file.path(\"C:/Users/GPEL_HPENVY/Desktop/Project_Predictive_Analytics_R\")\n",
    "\n",
    "# Check if the directory exists\n",
    "if (dir.exists(my_dir)) {\n",
    "  # Set the working directory\n",
    "  setwd(my_dir)\n",
    "  cat(\"Working directory set to:\", getwd(), \"\\n\")\n",
    "} else {\n",
    "  cat(\"Directory does not exist:\", my_dir, \"\\n\")\n",
    "}"
   ]
  },
  {
   "cell_type": "code",
   "execution_count": 2,
   "id": "24ff76c2-2a0e-453e-93a3-5ee4d8bfd01c",
   "metadata": {
    "tags": []
   },
   "outputs": [],
   "source": [
    "# set file path\n",
    "# read csv file\n",
    "#setwd('H:/GPEL_HPENVY/Documents/UNSW/07_ZZBU6511/Assessment3/')\n",
    "employees <- read.csv(file = 'employees2.csv')\n",
    "\n",
    "# Modify the column names to remove unwanted characters (assuming the problematic column is named \"ï..Age\")\n",
    "colnames(employees) <- gsub(\"ï\\\\.{2}\", \"\", colnames(employees))"
   ]
  },
  {
   "cell_type": "code",
   "execution_count": 3,
   "id": "4d1f265d-e796-4ecb-b821-66d3cb8160dc",
   "metadata": {
    "tags": []
   },
   "outputs": [
    {
     "data": {
      "text/html": [
       "<table>\n",
       "<thead><tr><th scope=col>Age</th><th scope=col>Attrition</th><th scope=col>BusinessTravel</th><th scope=col>Department</th><th scope=col>DistanceFromHome</th><th scope=col>Education</th><th scope=col>EnvironmentSatisfaction</th><th scope=col>Gender</th><th scope=col>JobInvolvement</th><th scope=col>JobRole</th><th scope=col>...</th><th scope=col>RelationshipSatisfaction</th><th scope=col>StockOptionLevel</th><th scope=col>TotalWorkingYears</th><th scope=col>TrainingTimesLastYear</th><th scope=col>WorkLifeBalance</th><th scope=col>YearsAtCompany</th><th scope=col>YearsInCurrentRole</th><th scope=col>YearsSinceLastPromotion</th><th scope=col>YearsWithCurrManager</th><th scope=col>HighPerformance</th></tr></thead>\n",
       "<tbody>\n",
       "\t<tr><td>26                                                               </td><td>No                                                               </td><td>Travel_Frequently                                                </td><td>Research &amp; Development                                       </td><td>10                                                               </td><td>3                                                                </td><td>3                                                                </td><td><span style=white-space:pre-wrap>Male  </span>                   </td><td>4                                                                </td><td><span style=white-space:pre-wrap>Laboratory Technician    </span></td><td>...                                                              </td><td>1                                                                </td><td>1                                                                </td><td> 8                                                               </td><td>3                                                                </td><td>3                                                                </td><td> 7                                                               </td><td>7                                                                </td><td>7                                                                </td><td>7                                                                </td><td>0                                                                </td></tr>\n",
       "\t<tr><td>33                                                       </td><td>No                                                       </td><td><span style=white-space:pre-wrap>Travel_Rarely    </span></td><td>Research &amp; Development                               </td><td>13                                                       </td><td>5                                                        </td><td>4                                                        </td><td><span style=white-space:pre-wrap>Male  </span>           </td><td>3                                                        </td><td>Healthcare Representative                                </td><td>...                                                      </td><td>1                                                        </td><td>0                                                        </td><td>14                                                       </td><td>6                                                        </td><td>3                                                        </td><td> 0                                                       </td><td>0                                                        </td><td>0                                                        </td><td>0                                                        </td><td>0                                                        </td></tr>\n",
       "\t<tr><td>59                                                               </td><td>No                                                               </td><td><span style=white-space:pre-wrap>Travel_Rarely    </span>        </td><td>Research &amp; Development                                       </td><td> 5                                                               </td><td>3                                                                </td><td>3                                                                </td><td>Female                                                           </td><td>4                                                                </td><td><span style=white-space:pre-wrap>Laboratory Technician    </span></td><td>...                                                              </td><td>1                                                                </td><td>3                                                                </td><td>12                                                               </td><td>3                                                                </td><td>2                                                                </td><td> 1                                                               </td><td>0                                                                </td><td>0                                                                </td><td>0                                                                </td><td>1                                                                </td></tr>\n",
       "\t<tr><td>42                                                       </td><td>No                                                       </td><td><span style=white-space:pre-wrap>Travel_Rarely    </span></td><td>Research &amp; Development                               </td><td>21                                                       </td><td>3                                                        </td><td>2                                                        </td><td><span style=white-space:pre-wrap>Male  </span>           </td><td>4                                                        </td><td>Healthcare Representative                                </td><td>...                                                      </td><td>3                                                        </td><td>2                                                        </td><td>10                                                       </td><td>2                                                        </td><td>2                                                        </td><td> 0                                                       </td><td>0                                                        </td><td>0                                                        </td><td>0                                                        </td><td>0                                                        </td></tr>\n",
       "\t<tr><td>24                                                               </td><td>No                                                               </td><td><span style=white-space:pre-wrap>Travel_Rarely    </span>        </td><td>Research &amp; Development                                       </td><td>27                                                               </td><td>1                                                                </td><td>4                                                                </td><td>Female                                                           </td><td>2                                                                </td><td><span style=white-space:pre-wrap>Manufacturing Director   </span></td><td>...                                                              </td><td>2                                                                </td><td>2                                                                </td><td> 5                                                               </td><td>6                                                                </td><td>3                                                                </td><td> 4                                                               </td><td>2                                                                </td><td>3                                                                </td><td>2                                                                </td><td>0                                                                </td></tr>\n",
       "\t<tr><td>29                                                               </td><td>No                                                               </td><td><span style=white-space:pre-wrap>Travel_Rarely    </span>        </td><td>Research &amp; Development                                       </td><td>37                                                               </td><td>2                                                                </td><td>3                                                                </td><td><span style=white-space:pre-wrap>Male  </span>                   </td><td>4                                                                </td><td><span style=white-space:pre-wrap>Research Scientist       </span></td><td>...                                                              </td><td>3                                                                </td><td>1                                                                </td><td>10                                                               </td><td>3                                                                </td><td>3                                                                </td><td>10                                                               </td><td>7                                                                </td><td>0                                                                </td><td>7                                                                </td><td>1                                                                </td></tr>\n",
       "</tbody>\n",
       "</table>\n"
      ],
      "text/latex": [
       "\\begin{tabular}{r|lllllllllllllllllllllllllll}\n",
       " Age & Attrition & BusinessTravel & Department & DistanceFromHome & Education & EnvironmentSatisfaction & Gender & JobInvolvement & JobRole & ... & RelationshipSatisfaction & StockOptionLevel & TotalWorkingYears & TrainingTimesLastYear & WorkLifeBalance & YearsAtCompany & YearsInCurrentRole & YearsSinceLastPromotion & YearsWithCurrManager & HighPerformance\\\\\n",
       "\\hline\n",
       "\t 26                        & No                        & Travel\\_Frequently       & Research \\& Development  & 10                        & 3                         & 3                         & Male                      & 4                         & Laboratory Technician     & ...                       & 1                         & 1                         &  8                        & 3                         & 3                         &  7                        & 7                         & 7                         & 7                         & 0                        \\\\\n",
       "\t 33                        & No                        & Travel\\_Rarely           & Research \\& Development  & 13                        & 5                         & 4                         & Male                      & 3                         & Healthcare Representative & ...                       & 1                         & 0                         & 14                        & 6                         & 3                         &  0                        & 0                         & 0                         & 0                         & 0                        \\\\\n",
       "\t 59                        & No                        & Travel\\_Rarely           & Research \\& Development  &  5                        & 3                         & 3                         & Female                    & 4                         & Laboratory Technician     & ...                       & 1                         & 3                         & 12                        & 3                         & 2                         &  1                        & 0                         & 0                         & 0                         & 1                        \\\\\n",
       "\t 42                        & No                        & Travel\\_Rarely           & Research \\& Development  & 21                        & 3                         & 2                         & Male                      & 4                         & Healthcare Representative & ...                       & 3                         & 2                         & 10                        & 2                         & 2                         &  0                        & 0                         & 0                         & 0                         & 0                        \\\\\n",
       "\t 24                        & No                        & Travel\\_Rarely           & Research \\& Development  & 27                        & 1                         & 4                         & Female                    & 2                         & Manufacturing Director    & ...                       & 2                         & 2                         &  5                        & 6                         & 3                         &  4                        & 2                         & 3                         & 2                         & 0                        \\\\\n",
       "\t 29                        & No                        & Travel\\_Rarely           & Research \\& Development  & 37                        & 2                         & 3                         & Male                      & 4                         & Research Scientist        & ...                       & 3                         & 1                         & 10                        & 3                         & 3                         & 10                        & 7                         & 0                         & 7                         & 1                        \\\\\n",
       "\\end{tabular}\n"
      ],
      "text/markdown": [
       "\n",
       "| Age | Attrition | BusinessTravel | Department | DistanceFromHome | Education | EnvironmentSatisfaction | Gender | JobInvolvement | JobRole | ... | RelationshipSatisfaction | StockOptionLevel | TotalWorkingYears | TrainingTimesLastYear | WorkLifeBalance | YearsAtCompany | YearsInCurrentRole | YearsSinceLastPromotion | YearsWithCurrManager | HighPerformance |\n",
       "|---|---|---|---|---|---|---|---|---|---|---|---|---|---|---|---|---|---|---|---|---|\n",
       "| 26                        | No                        | Travel_Frequently         | Research & Development    | 10                        | 3                         | 3                         | Male                      | 4                         | Laboratory Technician     | ...                       | 1                         | 1                         |  8                        | 3                         | 3                         |  7                        | 7                         | 7                         | 7                         | 0                         |\n",
       "| 33                        | No                        | Travel_Rarely             | Research & Development    | 13                        | 5                         | 4                         | Male                      | 3                         | Healthcare Representative | ...                       | 1                         | 0                         | 14                        | 6                         | 3                         |  0                        | 0                         | 0                         | 0                         | 0                         |\n",
       "| 59                        | No                        | Travel_Rarely             | Research & Development    |  5                        | 3                         | 3                         | Female                    | 4                         | Laboratory Technician     | ...                       | 1                         | 3                         | 12                        | 3                         | 2                         |  1                        | 0                         | 0                         | 0                         | 1                         |\n",
       "| 42                        | No                        | Travel_Rarely             | Research & Development    | 21                        | 3                         | 2                         | Male                      | 4                         | Healthcare Representative | ...                       | 3                         | 2                         | 10                        | 2                         | 2                         |  0                        | 0                         | 0                         | 0                         | 0                         |\n",
       "| 24                        | No                        | Travel_Rarely             | Research & Development    | 27                        | 1                         | 4                         | Female                    | 2                         | Manufacturing Director    | ...                       | 2                         | 2                         |  5                        | 6                         | 3                         |  4                        | 2                         | 3                         | 2                         | 0                         |\n",
       "| 29                        | No                        | Travel_Rarely             | Research & Development    | 37                        | 2                         | 3                         | Male                      | 4                         | Research Scientist        | ...                       | 3                         | 1                         | 10                        | 3                         | 3                         | 10                        | 7                         | 0                         | 7                         | 1                         |\n",
       "\n"
      ],
      "text/plain": [
       "  Age Attrition BusinessTravel    Department             DistanceFromHome\n",
       "1 26  No        Travel_Frequently Research & Development 10              \n",
       "2 33  No        Travel_Rarely     Research & Development 13              \n",
       "3 59  No        Travel_Rarely     Research & Development  5              \n",
       "4 42  No        Travel_Rarely     Research & Development 21              \n",
       "5 24  No        Travel_Rarely     Research & Development 27              \n",
       "6 29  No        Travel_Rarely     Research & Development 37              \n",
       "  Education EnvironmentSatisfaction Gender JobInvolvement\n",
       "1 3         3                       Male   4             \n",
       "2 5         4                       Male   3             \n",
       "3 3         3                       Female 4             \n",
       "4 3         2                       Male   4             \n",
       "5 1         4                       Female 2             \n",
       "6 2         3                       Male   4             \n",
       "  JobRole                   ... RelationshipSatisfaction StockOptionLevel\n",
       "1 Laboratory Technician     ... 1                        1               \n",
       "2 Healthcare Representative ... 1                        0               \n",
       "3 Laboratory Technician     ... 1                        3               \n",
       "4 Healthcare Representative ... 3                        2               \n",
       "5 Manufacturing Director    ... 2                        2               \n",
       "6 Research Scientist        ... 3                        1               \n",
       "  TotalWorkingYears TrainingTimesLastYear WorkLifeBalance YearsAtCompany\n",
       "1  8                3                     3                7            \n",
       "2 14                6                     3                0            \n",
       "3 12                3                     2                1            \n",
       "4 10                2                     2                0            \n",
       "5  5                6                     3                4            \n",
       "6 10                3                     3               10            \n",
       "  YearsInCurrentRole YearsSinceLastPromotion YearsWithCurrManager\n",
       "1 7                  7                       7                   \n",
       "2 0                  0                       0                   \n",
       "3 0                  0                       0                   \n",
       "4 0                  0                       0                   \n",
       "5 2                  3                       2                   \n",
       "6 7                  0                       7                   \n",
       "  HighPerformance\n",
       "1 0              \n",
       "2 0              \n",
       "3 1              \n",
       "4 0              \n",
       "5 0              \n",
       "6 1              "
      ]
     },
     "metadata": {},
     "output_type": "display_data"
    }
   ],
   "source": [
    "# Inspect file\n",
    "head(employees)\n"
   ]
  },
  {
   "cell_type": "code",
   "execution_count": 4,
   "id": "621294ce-c3cf-45a1-8c4d-68562eadb1ba",
   "metadata": {
    "tags": []
   },
   "outputs": [],
   "source": [
    "# Add new binary variables to the employees data frame\n",
    "employees$Is.Attrition = ifelse(employees$Attrition == \"Yes\", 1, 0)"
   ]
  },
  {
   "cell_type": "code",
   "execution_count": 5,
   "id": "55c023f7-1451-4a12-ac56-fadee1c5cc96",
   "metadata": {
    "tags": []
   },
   "outputs": [],
   "source": [
    "# Split the data to training and testing\n",
    "set.seed(57)\n",
    "rows <- sample(nrow(employees), 0.8*nrow(employees))\n",
    "training <- employees[rows, ]\n",
    "testing <- employees[-rows, ]"
   ]
  },
  {
   "cell_type": "code",
   "execution_count": 6,
   "id": "3dd6e18e-ca8d-47e5-80d0-94ea60c43c06",
   "metadata": {
    "tags": []
   },
   "outputs": [
    {
     "data": {
      "text/plain": [
       "\n",
       "Call:\n",
       "glm(formula = Is.Attrition ~ BusinessTravel + OverTime + JobRole + \n",
       "    DistanceFromHome + JobSatisfaction + EnvironmentSatisfaction + \n",
       "    JobInvolvement + NumCompaniesWorked + WorkLifeBalance, family = binomial(), \n",
       "    data = training)\n",
       "\n",
       "Deviance Residuals: \n",
       "    Min       1Q   Median       3Q      Max  \n",
       "-1.6482  -0.5358  -0.2931  -0.1270   3.0825  \n",
       "\n",
       "Coefficients:\n",
       "                                 Estimate Std. Error z value Pr(>|z|)    \n",
       "(Intercept)                     -2.093375   1.365246  -1.533 0.125194    \n",
       "BusinessTravelTravel_Frequently  1.971818   0.558940   3.528 0.000419 ***\n",
       "BusinessTravelTravel_Rarely      1.181131   0.523782   2.255 0.024133 *  \n",
       "OverTimeYes                      1.824873   0.248857   7.333 2.25e-13 ***\n",
       "JobRoleHuman Resources           3.410067   1.154509   2.954 0.003140 ** \n",
       "JobRoleLaboratory Technician     3.839303   1.081425   3.550 0.000385 ***\n",
       "JobRoleManager                   2.009682   1.182956   1.699 0.089345 .  \n",
       "JobRoleManufacturing Director    2.011612   1.140208   1.764 0.077690 .  \n",
       "JobRoleResearch Director         1.325852   1.291003   1.027 0.304424    \n",
       "JobRoleResearch Scientist        2.770395   1.081368   2.562 0.010409 *  \n",
       "JobRoleSales Executive           3.298433   1.073310   3.073 0.002118 ** \n",
       "JobRoleSales Representative      4.542725   1.115564   4.072 4.66e-05 ***\n",
       "DistanceFromHome                 0.017462   0.008547   2.043 0.041041 *  \n",
       "JobSatisfaction                 -0.477030   0.106652  -4.473 7.72e-06 ***\n",
       "EnvironmentSatisfaction         -0.353531   0.106622  -3.316 0.000914 ***\n",
       "JobInvolvement                  -0.768364   0.159308  -4.823 1.41e-06 ***\n",
       "NumCompaniesWorked               0.097990   0.046091   2.126 0.033503 *  \n",
       "WorkLifeBalance                 -0.380829   0.155398  -2.451 0.014259 *  \n",
       "---\n",
       "Signif. codes:  0 '***' 0.001 '**' 0.01 '*' 0.05 '.' 0.1 ' ' 1\n",
       "\n",
       "(Dispersion parameter for binomial family taken to be 1)\n",
       "\n",
       "    Null deviance: 679.79  on 799  degrees of freedom\n",
       "Residual deviance: 500.16  on 782  degrees of freedom\n",
       "AIC: 536.16\n",
       "\n",
       "Number of Fisher Scoring iterations: 7\n"
      ]
     },
     "metadata": {},
     "output_type": "display_data"
    }
   ],
   "source": [
    "# Making the predictions.  Don't include Over18 since all is Yes. Use upto 2* statistical significant.\n",
    "logmod <- glm(\n",
    "  formula = Is.Attrition ~ BusinessTravel + OverTime + JobRole +\n",
    "    DistanceFromHome + JobSatisfaction + EnvironmentSatisfaction + JobInvolvement + \n",
    "     NumCompaniesWorked + WorkLifeBalance,\n",
    "  data = training,\n",
    "  family = binomial()\n",
    ")\n",
    "# Print summary of the prediction\n",
    "summary(logmod)"
   ]
  },
  {
   "cell_type": "code",
   "execution_count": 7,
   "id": "4ccb8300-a677-4ba6-88b3-5089004268fc",
   "metadata": {
    "tags": []
   },
   "outputs": [],
   "source": [
    "# Do prediction using the training parameters\n",
    "# Get the probabilities from the model and add them into a new column\n",
    "training$Probability <- predict(\n",
    "  object = logmod,\n",
    "  newdata = training,\n",
    "  # To get probabilities we set the type to \"response\"\n",
    "  type = \"response\"\n",
    ")"
   ]
  },
  {
   "cell_type": "code",
   "execution_count": 8,
   "id": "d152d842-f74b-43db-a871-392a427bf5fd",
   "metadata": {
    "tags": []
   },
   "outputs": [
    {
     "ename": "ERROR",
     "evalue": "Error in roc(formula = training$Is.Attrition ~ training$Probability, auc = TRUE): could not find function \"roc\"\n",
     "output_type": "error",
     "traceback": [
      "Error in roc(formula = training$Is.Attrition ~ training$Probability, auc = TRUE): could not find function \"roc\"\nTraceback:\n"
     ]
    }
   ],
   "source": [
    "# Compute ROC and Printing the area under the ROC curve\n",
    "roc(\n",
    "  formula = training$Is.Attrition ~ training$Probability,\n",
    "  auc = TRUE\n",
    ")"
   ]
  },
  {
   "cell_type": "code",
   "execution_count": null,
   "id": "4a3d659b-22ae-442c-91ef-6eae8421afb9",
   "metadata": {
    "tags": []
   },
   "outputs": [],
   "source": [
    "# Turn the probabilities into predictions\n",
    "training$Prediction = ifelse(training$Probability >= 0.2, 1, 0)"
   ]
  },
  {
   "cell_type": "code",
   "execution_count": null,
   "id": "60e0e4ec-f182-41d9-9e36-1a11ef74d7d6",
   "metadata": {
    "tags": []
   },
   "outputs": [],
   "source": [
    "# Get the confusion matrix\n",
    "conf_matrix_train <- table(training$Prediction, training$Is.Attrition)\n",
    "\n",
    "# Show the confusion matrix\n",
    "conf_matrix_train\n"
   ]
  },
  {
   "cell_type": "code",
   "execution_count": null,
   "id": "d6bd9a29-c6b5-48f6-9426-f911d7d21a40",
   "metadata": {
    "tags": []
   },
   "outputs": [],
   "source": [
    "# Calculate and show the accuracy\n",
    "accuracy <- sum(diag(conf_matrix_train))/sum(conf_matrix_train)\n",
    "message(\"Accuracy: \", accuracy)\n",
    "\n",
    "# Calculate and show the sensitivity\n",
    "sensitivity <- conf_matrix_train[2,2]/sum(conf_matrix_train[,2])\n",
    "message(\"Sensitivity: \", sensitivity)\n",
    "\n",
    "# Calculate and show the specificity\n",
    "specificity <- conf_matrix_train[1,1]/sum(conf_matrix_train[,1])\n",
    "message(\"Specificity: \", specificity)"
   ]
  },
  {
   "cell_type": "code",
   "execution_count": null,
   "id": "95c2b080-8207-440e-8eba-9f24bbc82994",
   "metadata": {
    "tags": []
   },
   "outputs": [],
   "source": [
    "# Testing the model - using the testing dataset and using the Prediction models\n",
    "testing$ProbabilityTest <- predict(logmod, newdata = testing, type = \"response\")\n",
    "testing$PredictionTest <- ifelse(testing$ProbabilityTest >= 0.2, 1, 0)\n",
    "conf_matrix_test <- table(testing$PredictionTest, testing$Is.Attrition)\n",
    "message(\"Confusion matrix for model 1:\")\n",
    "conf_matrix_test"
   ]
  },
  {
   "cell_type": "code",
   "execution_count": null,
   "id": "56842960-ac11-4a63-931f-5c9ac936c98d",
   "metadata": {
    "tags": []
   },
   "outputs": [],
   "source": [
    "# Calculate and show the accuracy\n",
    "accuracy <- sum(diag(conf_matrix_test))/sum(conf_matrix_test)\n",
    "message(\"Accuracy: \", accuracy)\n",
    "\n",
    "# Calculate and show the sensitivity\n",
    "sensitivity <- conf_matrix_test[2,2]/sum(conf_matrix_test[,2])\n",
    "message(\"Sensitivity: \", sensitivity)\n",
    "\n",
    "# Calculate and show the specificity\n",
    "specificity <- conf_matrix_test[1,1]/sum(conf_matrix_test[,1])\n",
    "message(\"Specificity: \", specificity)\n"
   ]
  },
  {
   "cell_type": "code",
   "execution_count": null,
   "id": "01a5977c-973e-435f-afd0-4bc917626328",
   "metadata": {},
   "outputs": [],
   "source": []
  }
 ],
 "metadata": {
  "kernelspec": {
   "display_name": "R",
   "language": "R",
   "name": "ir"
  },
  "language_info": {
   "codemirror_mode": "r",
   "file_extension": ".r",
   "mimetype": "text/x-r-source",
   "name": "R",
   "pygments_lexer": "r",
   "version": "3.6.1"
  }
 },
 "nbformat": 4,
 "nbformat_minor": 5
}
