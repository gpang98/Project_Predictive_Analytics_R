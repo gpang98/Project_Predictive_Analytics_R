{
 "cells": [
  {
   "cell_type": "code",
   "execution_count": 1,
   "id": "baf81c4a-a3df-40f2-8c40-04774831c9bf",
   "metadata": {
    "tags": []
   },
   "outputs": [
    {
     "name": "stderr",
     "output_type": "stream",
     "text": [
      "Warning message:\n",
      "\"package 'pROC' was built under R version 3.6.3\"Type 'citation(\"pROC\")' for a citation.\n",
      "\n",
      "Attaching package: 'pROC'\n",
      "\n",
      "The following objects are masked from 'package:stats':\n",
      "\n",
      "    cov, smooth, var\n",
      "\n"
     ]
    },
    {
     "name": "stdout",
     "output_type": "stream",
     "text": [
      "Working directory set to: C:/Users/GPEL_HPENVY/Desktop/Project_Predictive_Analytics_R \n"
     ]
    }
   ],
   "source": [
    "library(pROC)\n",
    "\n",
    "# Define the directory structure using file.path()\n",
    "my_dir <- file.path(\"C:/Users/GPEL_HPENVY/Desktop/Project_Predictive_Analytics_R\")\n",
    "\n",
    "# Check if the directory exists\n",
    "if (dir.exists(my_dir)) {\n",
    "  # Set the working directory\n",
    "  setwd(my_dir)\n",
    "  cat(\"Working directory set to:\", getwd(), \"\\n\")\n",
    "} else {\n",
    "  cat(\"Directory does not exist:\", my_dir, \"\\n\")\n",
    "}"
   ]
  },
  {
   "cell_type": "code",
   "execution_count": 2,
   "id": "24ff76c2-2a0e-453e-93a3-5ee4d8bfd01c",
   "metadata": {
    "tags": []
   },
   "outputs": [],
   "source": [
    "# set file path\n",
    "# read csv file\n",
    "#setwd('H:/GPEL_HPENVY/Documents/UNSW/07_ZZBU6511/Assessment3/')\n",
    "employees <- read.csv(file = 'employees2.csv')\n",
    "\n",
    "# Modify the column names to remove unwanted characters (assuming the problematic column is named \"ï..Age\")\n",
    "colnames(employees) <- gsub(\"ï\\\\.{2}\", \"\", colnames(employees))"
   ]
  },
  {
   "cell_type": "code",
   "execution_count": 3,
   "id": "4d1f265d-e796-4ecb-b821-66d3cb8160dc",
   "metadata": {
    "tags": []
   },
   "outputs": [
    {
     "data": {
      "text/html": [
       "<table>\n",
       "<thead><tr><th scope=col>Age</th><th scope=col>Attrition</th><th scope=col>BusinessTravel</th><th scope=col>Department</th><th scope=col>DistanceFromHome</th><th scope=col>Education</th><th scope=col>EnvironmentSatisfaction</th><th scope=col>Gender</th><th scope=col>JobInvolvement</th><th scope=col>JobRole</th><th scope=col>...</th><th scope=col>RelationshipSatisfaction</th><th scope=col>StockOptionLevel</th><th scope=col>TotalWorkingYears</th><th scope=col>TrainingTimesLastYear</th><th scope=col>WorkLifeBalance</th><th scope=col>YearsAtCompany</th><th scope=col>YearsInCurrentRole</th><th scope=col>YearsSinceLastPromotion</th><th scope=col>YearsWithCurrManager</th><th scope=col>HighPerformance</th></tr></thead>\n",
       "<tbody>\n",
       "\t<tr><td>26                                                               </td><td>No                                                               </td><td>Travel_Frequently                                                </td><td>Research &amp; Development                                       </td><td>10                                                               </td><td>3                                                                </td><td>3                                                                </td><td><span style=white-space:pre-wrap>Male  </span>                   </td><td>4                                                                </td><td><span style=white-space:pre-wrap>Laboratory Technician    </span></td><td>...                                                              </td><td>1                                                                </td><td>1                                                                </td><td> 8                                                               </td><td>3                                                                </td><td>3                                                                </td><td> 7                                                               </td><td>7                                                                </td><td>7                                                                </td><td>7                                                                </td><td>0                                                                </td></tr>\n",
       "\t<tr><td>33                                                       </td><td>No                                                       </td><td><span style=white-space:pre-wrap>Travel_Rarely    </span></td><td>Research &amp; Development                               </td><td>13                                                       </td><td>5                                                        </td><td>4                                                        </td><td><span style=white-space:pre-wrap>Male  </span>           </td><td>3                                                        </td><td>Healthcare Representative                                </td><td>...                                                      </td><td>1                                                        </td><td>0                                                        </td><td>14                                                       </td><td>6                                                        </td><td>3                                                        </td><td> 0                                                       </td><td>0                                                        </td><td>0                                                        </td><td>0                                                        </td><td>0                                                        </td></tr>\n",
       "\t<tr><td>59                                                               </td><td>No                                                               </td><td><span style=white-space:pre-wrap>Travel_Rarely    </span>        </td><td>Research &amp; Development                                       </td><td> 5                                                               </td><td>3                                                                </td><td>3                                                                </td><td>Female                                                           </td><td>4                                                                </td><td><span style=white-space:pre-wrap>Laboratory Technician    </span></td><td>...                                                              </td><td>1                                                                </td><td>3                                                                </td><td>12                                                               </td><td>3                                                                </td><td>2                                                                </td><td> 1                                                               </td><td>0                                                                </td><td>0                                                                </td><td>0                                                                </td><td>1                                                                </td></tr>\n",
       "\t<tr><td>42                                                       </td><td>No                                                       </td><td><span style=white-space:pre-wrap>Travel_Rarely    </span></td><td>Research &amp; Development                               </td><td>21                                                       </td><td>3                                                        </td><td>2                                                        </td><td><span style=white-space:pre-wrap>Male  </span>           </td><td>4                                                        </td><td>Healthcare Representative                                </td><td>...                                                      </td><td>3                                                        </td><td>2                                                        </td><td>10                                                       </td><td>2                                                        </td><td>2                                                        </td><td> 0                                                       </td><td>0                                                        </td><td>0                                                        </td><td>0                                                        </td><td>0                                                        </td></tr>\n",
       "\t<tr><td>24                                                               </td><td>No                                                               </td><td><span style=white-space:pre-wrap>Travel_Rarely    </span>        </td><td>Research &amp; Development                                       </td><td>27                                                               </td><td>1                                                                </td><td>4                                                                </td><td>Female                                                           </td><td>2                                                                </td><td><span style=white-space:pre-wrap>Manufacturing Director   </span></td><td>...                                                              </td><td>2                                                                </td><td>2                                                                </td><td> 5                                                               </td><td>6                                                                </td><td>3                                                                </td><td> 4                                                               </td><td>2                                                                </td><td>3                                                                </td><td>2                                                                </td><td>0                                                                </td></tr>\n",
       "\t<tr><td>29                                                               </td><td>No                                                               </td><td><span style=white-space:pre-wrap>Travel_Rarely    </span>        </td><td>Research &amp; Development                                       </td><td>37                                                               </td><td>2                                                                </td><td>3                                                                </td><td><span style=white-space:pre-wrap>Male  </span>                   </td><td>4                                                                </td><td><span style=white-space:pre-wrap>Research Scientist       </span></td><td>...                                                              </td><td>3                                                                </td><td>1                                                                </td><td>10                                                               </td><td>3                                                                </td><td>3                                                                </td><td>10                                                               </td><td>7                                                                </td><td>0                                                                </td><td>7                                                                </td><td>1                                                                </td></tr>\n",
       "</tbody>\n",
       "</table>\n"
      ],
      "text/latex": [
       "\\begin{tabular}{r|lllllllllllllllllllllllllll}\n",
       " Age & Attrition & BusinessTravel & Department & DistanceFromHome & Education & EnvironmentSatisfaction & Gender & JobInvolvement & JobRole & ... & RelationshipSatisfaction & StockOptionLevel & TotalWorkingYears & TrainingTimesLastYear & WorkLifeBalance & YearsAtCompany & YearsInCurrentRole & YearsSinceLastPromotion & YearsWithCurrManager & HighPerformance\\\\\n",
       "\\hline\n",
       "\t 26                        & No                        & Travel\\_Frequently       & Research \\& Development  & 10                        & 3                         & 3                         & Male                      & 4                         & Laboratory Technician     & ...                       & 1                         & 1                         &  8                        & 3                         & 3                         &  7                        & 7                         & 7                         & 7                         & 0                        \\\\\n",
       "\t 33                        & No                        & Travel\\_Rarely           & Research \\& Development  & 13                        & 5                         & 4                         & Male                      & 3                         & Healthcare Representative & ...                       & 1                         & 0                         & 14                        & 6                         & 3                         &  0                        & 0                         & 0                         & 0                         & 0                        \\\\\n",
       "\t 59                        & No                        & Travel\\_Rarely           & Research \\& Development  &  5                        & 3                         & 3                         & Female                    & 4                         & Laboratory Technician     & ...                       & 1                         & 3                         & 12                        & 3                         & 2                         &  1                        & 0                         & 0                         & 0                         & 1                        \\\\\n",
       "\t 42                        & No                        & Travel\\_Rarely           & Research \\& Development  & 21                        & 3                         & 2                         & Male                      & 4                         & Healthcare Representative & ...                       & 3                         & 2                         & 10                        & 2                         & 2                         &  0                        & 0                         & 0                         & 0                         & 0                        \\\\\n",
       "\t 24                        & No                        & Travel\\_Rarely           & Research \\& Development  & 27                        & 1                         & 4                         & Female                    & 2                         & Manufacturing Director    & ...                       & 2                         & 2                         &  5                        & 6                         & 3                         &  4                        & 2                         & 3                         & 2                         & 0                        \\\\\n",
       "\t 29                        & No                        & Travel\\_Rarely           & Research \\& Development  & 37                        & 2                         & 3                         & Male                      & 4                         & Research Scientist        & ...                       & 3                         & 1                         & 10                        & 3                         & 3                         & 10                        & 7                         & 0                         & 7                         & 1                        \\\\\n",
       "\\end{tabular}\n"
      ],
      "text/markdown": [
       "\n",
       "| Age | Attrition | BusinessTravel | Department | DistanceFromHome | Education | EnvironmentSatisfaction | Gender | JobInvolvement | JobRole | ... | RelationshipSatisfaction | StockOptionLevel | TotalWorkingYears | TrainingTimesLastYear | WorkLifeBalance | YearsAtCompany | YearsInCurrentRole | YearsSinceLastPromotion | YearsWithCurrManager | HighPerformance |\n",
       "|---|---|---|---|---|---|---|---|---|---|---|---|---|---|---|---|---|---|---|---|---|\n",
       "| 26                        | No                        | Travel_Frequently         | Research & Development    | 10                        | 3                         | 3                         | Male                      | 4                         | Laboratory Technician     | ...                       | 1                         | 1                         |  8                        | 3                         | 3                         |  7                        | 7                         | 7                         | 7                         | 0                         |\n",
       "| 33                        | No                        | Travel_Rarely             | Research & Development    | 13                        | 5                         | 4                         | Male                      | 3                         | Healthcare Representative | ...                       | 1                         | 0                         | 14                        | 6                         | 3                         |  0                        | 0                         | 0                         | 0                         | 0                         |\n",
       "| 59                        | No                        | Travel_Rarely             | Research & Development    |  5                        | 3                         | 3                         | Female                    | 4                         | Laboratory Technician     | ...                       | 1                         | 3                         | 12                        | 3                         | 2                         |  1                        | 0                         | 0                         | 0                         | 1                         |\n",
       "| 42                        | No                        | Travel_Rarely             | Research & Development    | 21                        | 3                         | 2                         | Male                      | 4                         | Healthcare Representative | ...                       | 3                         | 2                         | 10                        | 2                         | 2                         |  0                        | 0                         | 0                         | 0                         | 0                         |\n",
       "| 24                        | No                        | Travel_Rarely             | Research & Development    | 27                        | 1                         | 4                         | Female                    | 2                         | Manufacturing Director    | ...                       | 2                         | 2                         |  5                        | 6                         | 3                         |  4                        | 2                         | 3                         | 2                         | 0                         |\n",
       "| 29                        | No                        | Travel_Rarely             | Research & Development    | 37                        | 2                         | 3                         | Male                      | 4                         | Research Scientist        | ...                       | 3                         | 1                         | 10                        | 3                         | 3                         | 10                        | 7                         | 0                         | 7                         | 1                         |\n",
       "\n"
      ],
      "text/plain": [
       "  Age Attrition BusinessTravel    Department             DistanceFromHome\n",
       "1 26  No        Travel_Frequently Research & Development 10              \n",
       "2 33  No        Travel_Rarely     Research & Development 13              \n",
       "3 59  No        Travel_Rarely     Research & Development  5              \n",
       "4 42  No        Travel_Rarely     Research & Development 21              \n",
       "5 24  No        Travel_Rarely     Research & Development 27              \n",
       "6 29  No        Travel_Rarely     Research & Development 37              \n",
       "  Education EnvironmentSatisfaction Gender JobInvolvement\n",
       "1 3         3                       Male   4             \n",
       "2 5         4                       Male   3             \n",
       "3 3         3                       Female 4             \n",
       "4 3         2                       Male   4             \n",
       "5 1         4                       Female 2             \n",
       "6 2         3                       Male   4             \n",
       "  JobRole                   ... RelationshipSatisfaction StockOptionLevel\n",
       "1 Laboratory Technician     ... 1                        1               \n",
       "2 Healthcare Representative ... 1                        0               \n",
       "3 Laboratory Technician     ... 1                        3               \n",
       "4 Healthcare Representative ... 3                        2               \n",
       "5 Manufacturing Director    ... 2                        2               \n",
       "6 Research Scientist        ... 3                        1               \n",
       "  TotalWorkingYears TrainingTimesLastYear WorkLifeBalance YearsAtCompany\n",
       "1  8                3                     3                7            \n",
       "2 14                6                     3                0            \n",
       "3 12                3                     2                1            \n",
       "4 10                2                     2                0            \n",
       "5  5                6                     3                4            \n",
       "6 10                3                     3               10            \n",
       "  YearsInCurrentRole YearsSinceLastPromotion YearsWithCurrManager\n",
       "1 7                  7                       7                   \n",
       "2 0                  0                       0                   \n",
       "3 0                  0                       0                   \n",
       "4 0                  0                       0                   \n",
       "5 2                  3                       2                   \n",
       "6 7                  0                       7                   \n",
       "  HighPerformance\n",
       "1 0              \n",
       "2 0              \n",
       "3 1              \n",
       "4 0              \n",
       "5 0              \n",
       "6 1              "
      ]
     },
     "metadata": {},
     "output_type": "display_data"
    }
   ],
   "source": [
    "# Inspect file\n",
    "head(employees)\n"
   ]
  },
  {
   "cell_type": "code",
   "execution_count": 4,
   "id": "3021f3a0-458b-4717-8090-2aa71168fa86",
   "metadata": {
    "tags": []
   },
   "outputs": [],
   "source": [
    "# Add new binary variables to the employees data frame\n",
    "employees$Is.Attrition = ifelse(employees$Attrition == \"Yes\", 1, 0)\n",
    "employees$Over18 <- NULL  # Don't include Over18 since all response is Yes."
   ]
  },
  {
   "cell_type": "code",
   "execution_count": 5,
   "id": "ff5bd232-7b03-4b3a-9686-ee94c1a6f5ba",
   "metadata": {
    "tags": []
   },
   "outputs": [],
   "source": [
    "# Split the data to training and testing\n",
    "set.seed(57)\n",
    "rows <- sample(nrow(employees), 0.8*nrow(employees))\n",
    "training <- employees[rows, ]\n",
    "testing <- employees[-rows, ]"
   ]
  },
  {
   "cell_type": "code",
   "execution_count": 6,
   "id": "88769662-3557-465a-88a0-41c3de4e8c38",
   "metadata": {
    "tags": []
   },
   "outputs": [
    {
     "data": {
      "text/plain": [
       "\n",
       "Call:\n",
       "glm(formula = Is.Attrition ~ . - Attrition - Is.Attrition, family = binomial(), \n",
       "    data = training)\n",
       "\n",
       "Deviance Residuals: \n",
       "    Min       1Q   Median       3Q      Max  \n",
       "-1.8655  -0.4531  -0.2191  -0.0721   3.6263  \n",
       "\n",
       "Coefficients:\n",
       "                                   Estimate Std. Error z value Pr(>|z|)    \n",
       "(Intercept)                      -1.499e+01  8.302e+02  -0.018 0.985596    \n",
       "Age                              -6.127e-03  1.940e-02  -0.316 0.752115    \n",
       "BusinessTravelTravel_Frequently   2.270e+00  6.359e-01   3.570 0.000357 ***\n",
       "BusinessTravelTravel_Rarely       1.303e+00  5.940e-01   2.193 0.028319 *  \n",
       "DepartmentResearch & Development  1.430e+01  8.302e+02   0.017 0.986254    \n",
       "DepartmentSales                   1.475e+01  8.302e+02   0.018 0.985825    \n",
       "DistanceFromHome                  2.756e-02  9.624e-03   2.863 0.004192 ** \n",
       "Education                         1.334e-01  1.222e-01   1.092 0.274732    \n",
       "EnvironmentSatisfaction          -4.411e-01  1.176e-01  -3.752 0.000175 ***\n",
       "GenderMale                        5.949e-01  2.620e-01   2.271 0.023176 *  \n",
       "JobInvolvement                   -7.862e-01  1.806e-01  -4.354 1.34e-05 ***\n",
       "JobRoleHuman Resources            1.748e+01  8.302e+02   0.021 0.983203    \n",
       "JobRoleLaboratory Technician      3.572e+00  1.143e+00   3.124 0.001781 ** \n",
       "JobRoleManager                    2.201e+00  1.510e+00   1.458 0.144872    \n",
       "JobRoleManufacturing Director     2.256e+00  1.171e+00   1.927 0.053972 .  \n",
       "JobRoleResearch Director          1.274e+00  1.484e+00   0.858 0.390667    \n",
       "JobRoleResearch Scientist         2.442e+00  1.145e+00   2.133 0.032917 *  \n",
       "JobRoleSales Executive            2.599e+00  1.659e+00   1.567 0.117160    \n",
       "JobRoleSales Representative       3.766e+00  1.726e+00   2.182 0.029136 *  \n",
       "JobSatisfaction                  -5.839e-01  1.218e-01  -4.794 1.63e-06 ***\n",
       "MaritalStatusMarried              3.574e-01  3.875e-01   0.922 0.356332    \n",
       "MaritalStatusSingle               1.168e+00  4.991e-01   2.339 0.019311 *  \n",
       "MonthlyIncome                     3.213e-05  8.207e-05   0.392 0.695427    \n",
       "NumCompaniesWorked                1.921e-01  5.484e-02   3.502 0.000461 ***\n",
       "OverTimeYes                       2.178e+00  2.878e-01   7.567 3.81e-14 ***\n",
       "SalaryIncrease                   -2.598e-02  5.509e-02  -0.472 0.637205    \n",
       "RelationshipSatisfaction         -2.518e-01  1.198e-01  -2.103 0.035503 *  \n",
       "StockOptionLevel                 -4.016e-01  2.359e-01  -1.703 0.088594 .  \n",
       "TotalWorkingYears                -9.044e-02  3.904e-02  -2.316 0.020536 *  \n",
       "TrainingTimesLastYear            -7.327e-02  1.061e-01  -0.691 0.489694    \n",
       "WorkLifeBalance                  -4.511e-01  1.681e-01  -2.683 0.007286 ** \n",
       "YearsAtCompany                    7.640e-02  5.613e-02   1.361 0.173487    \n",
       "YearsInCurrentRole               -7.980e-02  6.756e-02  -1.181 0.237541    \n",
       "YearsSinceLastPromotion           1.263e-01  6.023e-02   2.097 0.036013 *  \n",
       "YearsWithCurrManager             -1.524e-01  7.447e-02  -2.047 0.040701 *  \n",
       "HighPerformance                  -7.512e-02  5.720e-01  -0.131 0.895514    \n",
       "---\n",
       "Signif. codes:  0 '***' 0.001 '**' 0.01 '*' 0.05 '.' 0.1 ' ' 1\n",
       "\n",
       "(Dispersion parameter for binomial family taken to be 1)\n",
       "\n",
       "    Null deviance: 679.79  on 799  degrees of freedom\n",
       "Residual deviance: 431.46  on 764  degrees of freedom\n",
       "AIC: 503.46\n",
       "\n",
       "Number of Fisher Scoring iterations: 15\n"
      ]
     },
     "metadata": {},
     "output_type": "display_data"
    }
   ],
   "source": [
    "# Making the predictions.  Use all variables except Attrition, Over18 and Is.Attrition\n",
    "logmod <- glm(\n",
    "  formula = Is.Attrition ~ . - Attrition - Is.Attrition,\n",
    "  data = training,\n",
    "  family = binomial()\n",
    ")\n",
    "# Print summary of the prediction\n",
    "summary(logmod)"
   ]
  },
  {
   "cell_type": "code",
   "execution_count": 7,
   "id": "0a9835d1-13c3-4e62-8bc1-981c87a4e3d5",
   "metadata": {
    "tags": []
   },
   "outputs": [
    {
     "name": "stderr",
     "output_type": "stream",
     "text": [
      "Setting levels: control = 0, case = 1\n",
      "Setting direction: controls < cases\n"
     ]
    },
    {
     "data": {
      "text/html": [
       "<strong>png:</strong> 2"
      ],
      "text/latex": [
       "\\textbf{png:} 2"
      ],
      "text/markdown": [
       "**png:** 2"
      ],
      "text/plain": [
       "png \n",
       "  2 "
      ]
     },
     "metadata": {},
     "output_type": "display_data"
    }
   ],
   "source": [
    "# Do prediction using the training parameters\n",
    "# Open a PNG graphics device\n",
    "png(\"Fig6.1.2.png\", width = 800, height = 600)  # Specify the file name and dimensions\n",
    "\n",
    "# Get the probabilities from the model and add them into a new column\n",
    "training$Probability <- predict(\n",
    "  object = logmod,\n",
    "  newdata = training,\n",
    "  # To get probabilities we set the type to \"response\"\n",
    "  type = \"response\")\n",
    "# Compute ROC and Printing the area under the ROC curve\n",
    "training.logroc <- roc(\n",
    "  formula = training$Is.Attrition ~ training$Probability,\n",
    "  auc = TRUE)\n",
    "plot(\n",
    "  training.logroc,\n",
    "  main=paste(\"Model: Log model on training set\\nAUC =\", round(training.logroc$auc, digits=4))\n",
    ")\n",
    "\n",
    "# Close the PNG graphics device\n",
    "dev.off()"
   ]
  },
  {
   "cell_type": "code",
   "execution_count": 8,
   "id": "cd418c27-dd5d-4042-b8a7-e0003ba38d9b",
   "metadata": {
    "tags": []
   },
   "outputs": [
    {
     "data": {
      "text/plain": [
       "   \n",
       "      0   1\n",
       "  0 534  20\n",
       "  1 145 101"
      ]
     },
     "metadata": {},
     "output_type": "display_data"
    }
   ],
   "source": [
    "# Turn the probabilities into predictions\n",
    "training$Prediction = ifelse(training$Probability >= 0.15, 1, 0)\n",
    "# Get the confusion matrix\n",
    "conf_matrix_train <- table(training$Prediction, training$Is.Attrition)\n",
    "\n",
    "# Show the confusion matrix\n",
    "conf_matrix_train"
   ]
  },
  {
   "cell_type": "code",
   "execution_count": 9,
   "id": "673dec97-ba06-452c-a32b-eedff9fba0a7",
   "metadata": {
    "tags": []
   },
   "outputs": [
    {
     "name": "stderr",
     "output_type": "stream",
     "text": [
      "Accuracy: 0.79375\n",
      "Sensitivity: 0.834710743801653\n",
      "Specificity: 0.786450662739323\n"
     ]
    }
   ],
   "source": [
    "# Calculate and show the accuracy\n",
    "accuracy <- sum(diag(conf_matrix_train))/sum(conf_matrix_train)\n",
    "message(\"Accuracy: \", accuracy)\n",
    "\n",
    "# Calculate and show the sensitivity\n",
    "sensitivity <- conf_matrix_train[2,2]/sum(conf_matrix_train[,2])\n",
    "message(\"Sensitivity: \", sensitivity)\n",
    "\n",
    "# Calculate and show the specificity\n",
    "specificity <- conf_matrix_train[1,1]/sum(conf_matrix_train[,1])\n",
    "message(\"Specificity: \", specificity)"
   ]
  },
  {
   "cell_type": "code",
   "execution_count": 10,
   "id": "57f07ef0-132c-4273-9437-a8118f2fe9c0",
   "metadata": {
    "tags": []
   },
   "outputs": [
    {
     "name": "stderr",
     "output_type": "stream",
     "text": [
      "Confusion matrix for model 1:\n"
     ]
    },
    {
     "data": {
      "text/plain": [
       "   \n",
       "      0   1\n",
       "  0 129   8\n",
       "  1  42  21"
      ]
     },
     "metadata": {},
     "output_type": "display_data"
    }
   ],
   "source": [
    "# Testing the model - using the testing dataset and using the Prediction models\n",
    "testing$ProbabilityTest <- predict(logmod, newdata = testing, type = \"response\")\n",
    "testing$PredictionTest <- ifelse(testing$ProbabilityTest >= 0.15, 1, 0)\n",
    "conf_matrix_test <- table(testing$PredictionTest, testing$Is.Attrition)\n",
    "message(\"Confusion matrix for model 1:\")\n",
    "conf_matrix_test"
   ]
  },
  {
   "cell_type": "code",
   "execution_count": 11,
   "id": "57ef5f19-d99f-470e-a24b-65129d14ca52",
   "metadata": {
    "tags": []
   },
   "outputs": [
    {
     "name": "stderr",
     "output_type": "stream",
     "text": [
      "Accuracy: 0.75\n",
      "Sensitivity: 0.724137931034483\n",
      "Specificity: 0.754385964912281\n"
     ]
    }
   ],
   "source": [
    "# Calculate and show the accuracy\n",
    "accuracy <- sum(diag(conf_matrix_test))/sum(conf_matrix_test)\n",
    "message(\"Accuracy: \", accuracy)\n",
    "\n",
    "# Calculate and show the sensitivity\n",
    "sensitivity <- conf_matrix_test[2,2]/sum(conf_matrix_test[,2])\n",
    "message(\"Sensitivity: \", sensitivity)\n",
    "# Calculate and show the specificity\n",
    "specificity <- conf_matrix_test[1,1]/sum(conf_matrix_test[,1])\n",
    "message(\"Specificity: \", specificity)"
   ]
  },
  {
   "cell_type": "code",
   "execution_count": 12,
   "id": "e5d8252f-04fb-41ce-9477-b995f9e641aa",
   "metadata": {},
   "outputs": [
    {
     "data": {
      "text/plain": [
       "\n",
       "If you use pROC in published research, please cite the following paper:\n",
       "\n",
       "  Xavier Robin, Natacha Turck, Alexandre Hainard, Natalia Tiberti,\n",
       "  Frédérique Lisacek, Jean-Charles Sanchez and Markus Müller (2011).\n",
       "  pROC: an open-source package for R and S+ to analyze and compare ROC\n",
       "  curves. BMC Bioinformatics, 12, p. 77.  DOI: 10.1186/1471-2105-12-77\n",
       "  <http://www.biomedcentral.com/1471-2105/12/77/>\n",
       "\n",
       "A BibTeX entry for LaTeX users is\n",
       "\n",
       "  @Article{,\n",
       "    title = {pROC: an open-source package for R and S+ to analyze and compare ROC curves},\n",
       "    author = {Xavier Robin and Natacha Turck and Alexandre Hainard and Natalia Tiberti and Frédérique Lisacek and Jean-Charles Sanchez and Markus Müller},\n",
       "    year = {2011},\n",
       "    journal = {BMC Bioinformatics},\n",
       "    volume = {12},\n",
       "    pages = {77},\n",
       "  }\n"
      ]
     },
     "metadata": {},
     "output_type": "display_data"
    }
   ],
   "source": [
    "citation(\"pROC\")"
   ]
  },
  {
   "cell_type": "code",
   "execution_count": null,
   "id": "d09bd76c-a685-415f-a46b-6daec2b3814f",
   "metadata": {},
   "outputs": [],
   "source": []
  }
 ],
 "metadata": {
  "kernelspec": {
   "display_name": "R",
   "language": "R",
   "name": "ir"
  },
  "language_info": {
   "codemirror_mode": "r",
   "file_extension": ".r",
   "mimetype": "text/x-r-source",
   "name": "R",
   "pygments_lexer": "r",
   "version": "3.6.1"
  }
 },
 "nbformat": 4,
 "nbformat_minor": 5
}
